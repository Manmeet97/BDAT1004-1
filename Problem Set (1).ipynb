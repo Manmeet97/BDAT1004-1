{
 "cells": [
  {
   "cell_type": "markdown",
   "id": "e02c50c2",
   "metadata": {},
   "source": [
    "## Question 1\n",
    "5 - int <br>\n",
    "5.0 - float <br>\n",
    "5 > 1 - bool <br>\n",
    "'5' - str <br>\n",
    "5 * 2 - int <br>\n",
    "'5' * 2 - str <br>\n",
    "'5' + '2' - str <br>\n",
    "5 / 2 - float <br>\n",
    "5 % 2 - int <br>\n",
    "{5, 2, 1} - dict <br>\n",
    "5 == 3 - bool <br>\n",
    "Pi (the number) - float <br>"
   ]
  },
  {
   "cell_type": "markdown",
   "id": "9d29827e",
   "metadata": {},
   "source": [
    "## Question 2\n",
    "### a)"
   ]
  },
  {
   "cell_type": "code",
   "execution_count": 3,
   "id": "e27f4f4e",
   "metadata": {},
   "outputs": [
    {
     "name": "stdout",
     "output_type": "stream",
     "text": [
      "Length of Supercalifragilisticexpialidocious :  34\n"
     ]
    }
   ],
   "source": [
    "print('Length of Supercalifragilisticexpialidocious : ', len('Supercalifragilisticexpialidocious'))"
   ]
  },
  {
   "cell_type": "markdown",
   "id": "a5d338c1",
   "metadata": {},
   "source": [
    "### b)"
   ]
  },
  {
   "cell_type": "code",
   "execution_count": 8,
   "id": "4351d030",
   "metadata": {},
   "outputs": [
    {
     "name": "stdout",
     "output_type": "stream",
     "text": [
      "Does 'Supercalifragilisticexpialidocious' contain 'ice' as a substring? : True\n"
     ]
    }
   ],
   "source": [
    "print(\"Does 'Supercalifragilisticexpialidocious' contain 'ice' as a substring? :\",'ice' in 'Supercalifragilisticexpialidocious')"
   ]
  },
  {
   "cell_type": "markdown",
   "id": "429e6bfb",
   "metadata": {},
   "source": [
    "### c)"
   ]
  },
  {
   "cell_type": "code",
   "execution_count": 12,
   "id": "04b9ac45",
   "metadata": {},
   "outputs": [
    {
     "data": {
      "text/plain": [
       "{'Supercalifragilisticexpialidocious': 34,\n",
       " 'Honorificabilitudinitatibus': 27,\n",
       " 'Bababadalgharaghtakamminarronnkonn': 34}"
      ]
     },
     "execution_count": 12,
     "metadata": {},
     "output_type": "execute_result"
    }
   ],
   "source": [
    "arr = ['Supercalifragilisticexpialidocious', 'Honorificabilitudinitatibus', 'Bababadalgharaghtakamminarronnkonn']\n",
    "lendict = {}\n",
    "for a in arr:\n",
    "    lendict[a] = len(a)\n",
    "lendict\n",
    "# lendict.keyof(max(lendict.values()))"
   ]
  },
  {
   "cell_type": "markdown",
   "id": "a8d0f2b3",
   "metadata": {},
   "source": [
    "### d)"
   ]
  },
  {
   "cell_type": "code",
   "execution_count": 88,
   "id": "b0b87e32",
   "metadata": {},
   "outputs": [
    {
     "name": "stdout",
     "output_type": "stream",
     "text": [
      "First word in the dictionary would be :  Bartok\n",
      "Last word in the dictionary would be :  Buxtehude\n"
     ]
    }
   ],
   "source": [
    "words = ['Berlioz', 'Borodin', 'Brian','Bartok', 'Bellini', 'Buxtehude', 'Bernstein']\n",
    "# sort() will sort the strings.\n",
    "words.sort()\n",
    "print('First word in the dictionary would be : ',words[0])\n",
    "print('Last word in the dictionary would be : ',words[-1])\n"
   ]
  },
  {
   "cell_type": "markdown",
   "id": "327fb21a",
   "metadata": {},
   "source": [
    "## Question 3"
   ]
  },
  {
   "cell_type": "code",
   "execution_count": 13,
   "id": "67e7a378",
   "metadata": {},
   "outputs": [
    {
     "data": {
      "text/plain": [
       "1.7320508075688772"
      ]
     },
     "execution_count": 13,
     "metadata": {},
     "output_type": "execute_result"
    }
   ],
   "source": [
    "import math\n",
    "\n",
    "def triangleArea(a,b,c):\n",
    "    s = (a+b+c)/2\n",
    "    return math.sqrt(s*(s-a)*(s-b)*(s-c))\n",
    "\n",
    "triangleArea(2,2,2)"
   ]
  },
  {
   "cell_type": "markdown",
   "id": "a826f60f",
   "metadata": {},
   "source": [
    "## Question 4"
   ]
  },
  {
   "cell_type": "code",
   "execution_count": 18,
   "id": "4909c0da",
   "metadata": {},
   "outputs": [
    {
     "name": "stdout",
     "output_type": "stream",
     "text": [
      "Input the number of elements to be stored in the array :5\n",
      "Input 5 elements in the array :\n",
      "element - 0 : 11\n",
      "element - 1 : 12\n",
      "element - 2 : 13\n",
      "element - 3 : 14\n",
      "element - 4 : 15\n",
      "The Even elements are:\n",
      "12 14 \n",
      "The Odd elements are:\n",
      "11 13 15 "
     ]
    }
   ],
   "source": [
    "length = int(input('Input the number of elements to be stored in the array :'))\n",
    "print('Input '+ str(length) +' elements in the array :')\n",
    "arr = []\n",
    "for i in range(length):\n",
    "    arr.append(int(input('element - '+str(i)+' : ')))\n",
    "even = []\n",
    "odd = []\n",
    "for a in arr:\n",
    "    if a%2==0:\n",
    "        even.append(a)\n",
    "    else:\n",
    "        odd.append(a)\n",
    "print('The Even elements are:')\n",
    "for e in even:\n",
    "    print(e, end=\" \")\n",
    "print()\n",
    "print('The Odd elements are:')\n",
    "for o in odd:\n",
    "    print(o, end=\" \")"
   ]
  },
  {
   "cell_type": "markdown",
   "id": "6c7369cc",
   "metadata": {},
   "source": [
    "## Question 5\n",
    "### a)"
   ]
  },
  {
   "cell_type": "code",
   "execution_count": 19,
   "id": "2a232068",
   "metadata": {},
   "outputs": [
    {
     "data": {
      "text/plain": [
       "True"
      ]
     },
     "execution_count": 19,
     "metadata": {},
     "output_type": "execute_result"
    }
   ],
   "source": [
    "def inside(x,y,x1,y1,x2,y2):\n",
    "    if x1<x<x2 and y1<y<y2:\n",
    "        return True\n",
    "    else:\n",
    "        return False\n",
    "inside(1,1,0,0,2,3)"
   ]
  },
  {
   "cell_type": "code",
   "execution_count": 20,
   "id": "c02488fa",
   "metadata": {},
   "outputs": [
    {
     "data": {
      "text/plain": [
       "False"
      ]
     },
     "execution_count": 20,
     "metadata": {},
     "output_type": "execute_result"
    }
   ],
   "source": [
    "inside(-1,-1,0,0,2,3)"
   ]
  },
  {
   "cell_type": "markdown",
   "id": "3eabcbd6",
   "metadata": {},
   "source": [
    "### b)"
   ]
  },
  {
   "cell_type": "code",
   "execution_count": 21,
   "id": "75ceffd0",
   "metadata": {},
   "outputs": [
    {
     "data": {
      "text/plain": [
       "False"
      ]
     },
     "execution_count": 21,
     "metadata": {},
     "output_type": "execute_result"
    }
   ],
   "source": [
    "inside(1,1,0.3,0.5,1.1,0.7) and inside(1,1,0.5,0.2,1.1,2)"
   ]
  },
  {
   "cell_type": "markdown",
   "id": "ff1a78b4",
   "metadata": {},
   "source": [
    "## Question 6"
   ]
  },
  {
   "cell_type": "code",
   "execution_count": 26,
   "id": "65a572e7",
   "metadata": {},
   "outputs": [],
   "source": [
    "def pig(word):\n",
    "    word = word.lower()\n",
    "    vowels = ['a','e','i','o','u']\n",
    "    if word[0] not in vowels:\n",
    "        start = word[0]\n",
    "        word = word[1:]+start+'ay'\n",
    "    else:\n",
    "        word += 'way'\n",
    "    return word"
   ]
  },
  {
   "cell_type": "code",
   "execution_count": 30,
   "id": "f4c8d7be",
   "metadata": {},
   "outputs": [
    {
     "data": {
      "text/plain": [
       "'appyhay'"
      ]
     },
     "execution_count": 30,
     "metadata": {},
     "output_type": "execute_result"
    }
   ],
   "source": [
    "pig('happy')"
   ]
  },
  {
   "cell_type": "code",
   "execution_count": 31,
   "id": "898147ba",
   "metadata": {},
   "outputs": [
    {
     "data": {
      "text/plain": [
       "'encilpay'"
      ]
     },
     "execution_count": 31,
     "metadata": {},
     "output_type": "execute_result"
    }
   ],
   "source": [
    "pig('pencil')"
   ]
  },
  {
   "cell_type": "code",
   "execution_count": 32,
   "id": "8690e71a",
   "metadata": {},
   "outputs": [
    {
     "data": {
      "text/plain": [
       "'otherway'"
      ]
     },
     "execution_count": 32,
     "metadata": {},
     "output_type": "execute_result"
    }
   ],
   "source": [
    "pig('other')"
   ]
  },
  {
   "cell_type": "code",
   "execution_count": 33,
   "id": "fea96038",
   "metadata": {},
   "outputs": [
    {
     "data": {
      "text/plain": [
       "'enterway'"
      ]
     },
     "execution_count": 33,
     "metadata": {},
     "output_type": "execute_result"
    }
   ],
   "source": [
    "pig('Enter')"
   ]
  },
  {
   "cell_type": "markdown",
   "id": "0dab32dc",
   "metadata": {},
   "source": [
    "## Question 7"
   ]
  },
  {
   "cell_type": "code",
   "execution_count": 59,
   "id": "3cc70602",
   "metadata": {},
   "outputs": [],
   "source": [
    "def bldcount(file):\n",
    "    with open(file,'r') as givenfile:\n",
    "        data = givenfile.read().split()\n",
    "        datadict = {}\n",
    "        for d in data:\n",
    "            if d in datadict.keys():\n",
    "                datadict[d] += 1\n",
    "            else:\n",
    "                datadict[d] = 1\n",
    "        for key in ['A','B','AB','O','OO']:\n",
    "            if key in datadict.keys():\n",
    "                print('There are '+str(datadict[key])+' patients of blood type ' + key)\n",
    "            else:\n",
    "                print('There are NO patients of blood type ' + key)\n",
    "        "
   ]
  },
  {
   "cell_type": "code",
   "execution_count": 60,
   "id": "2c91e153",
   "metadata": {},
   "outputs": [
    {
     "name": "stdout",
     "output_type": "stream",
     "text": [
      "There are 15 patients of blood type A\n",
      "There are 1 patients of blood type B\n",
      "There are 13 patients of blood type AB\n",
      "There are 15 patients of blood type O\n",
      "There are NO patients of blood type OO\n"
     ]
    }
   ],
   "source": [
    "bldcount('bloodtype.txt')"
   ]
  },
  {
   "cell_type": "markdown",
   "id": "475d3f13",
   "metadata": {},
   "source": [
    "## Question 8"
   ]
  },
  {
   "cell_type": "code",
   "execution_count": 63,
   "id": "ab77dfe3",
   "metadata": {},
   "outputs": [],
   "source": [
    "def curconv(currency, amount):\n",
    "    rates = {'AUD' : 1.0345157,\n",
    "            'CHF':1.0237414,\n",
    "            'CNY':0.1550176,\n",
    "            'DKK':0.1651442,\n",
    "            'EUR':1.2296544,\n",
    "            'GBP':1.5550989,\n",
    "            'HKD':0.1270207,\n",
    "            'INR':0.0177643,\n",
    "            'JPY':0.01241401,\n",
    "            'MXN':0.0751848,\n",
    "            'MYR':0.3145411,\n",
    "            'NOK':0.1677063,\n",
    "            'NZD':0.8003591,\n",
    "            'PHP':0.0233234,\n",
    "            'SEK':0.148269,\n",
    "            'SGD':0.788871,\n",
    "            'THB':0.0313789}\n",
    "    if currency in rates.keys():\n",
    "        return rates[currency]*amount\n",
    "    else:\n",
    "        return false"
   ]
  },
  {
   "cell_type": "code",
   "execution_count": 66,
   "id": "70ab6e20",
   "metadata": {},
   "outputs": [
    {
     "data": {
      "text/plain": [
       "122.96544"
      ]
     },
     "execution_count": 66,
     "metadata": {},
     "output_type": "execute_result"
    }
   ],
   "source": [
    "curconv('EUR',100)"
   ]
  },
  {
   "cell_type": "code",
   "execution_count": 67,
   "id": "d6e7fa63",
   "metadata": {},
   "outputs": [
    {
     "data": {
      "text/plain": [
       "1.241401"
      ]
     },
     "execution_count": 67,
     "metadata": {},
     "output_type": "execute_result"
    }
   ],
   "source": [
    "curconv('JPY',100)"
   ]
  },
  {
   "cell_type": "markdown",
   "id": "eef8c09a",
   "metadata": {},
   "source": [
    "## Question 9"
   ]
  },
  {
   "cell_type": "markdown",
   "id": "9e2d428d",
   "metadata": {},
   "source": [
    "Trying to add incompatible variables, as in adding 6 + ‘a’ : Unsupported type <br>\n",
    "Referring to the 12th item of a list that has only 10 items : Out of index <br>\n",
    "Using a value that is out of range for a function’s input, such as calling math.sqrt(-1.0) : domain error <br>\n",
    "Using an undeclared variable, such as print(x) when x has not been defined : variable not defined<br>\n",
    "Trying to open a file that does not exist, such as mistyping the file name or looking in the wrong directory. : No such directory found<br>"
   ]
  },
  {
   "cell_type": "markdown",
   "id": "58ccfca3",
   "metadata": {},
   "source": [
    "## Question 10"
   ]
  },
  {
   "cell_type": "code",
   "execution_count": 75,
   "id": "b8576f0e",
   "metadata": {},
   "outputs": [],
   "source": [
    "def frequencies(text):\n",
    "    alphabets = ['a','b','c','d','e','f','g','h','i','j','k','l','m','n','o','p','q','r','s','t','u','v','w','x','y','z']\n",
    "    output = []\n",
    "    for a in alphabets:\n",
    "        output.append(text.count(a))\n",
    "    print(output)"
   ]
  },
  {
   "cell_type": "code",
   "execution_count": 76,
   "id": "a5666982",
   "metadata": {},
   "outputs": [
    {
     "name": "stdout",
     "output_type": "stream",
     "text": [
      "[1, 1, 1, 3, 5, 1, 1, 2, 1, 0, 1, 0, 1, 2, 4, 0, 1, 2, 0, 2, 1, 0, 1, 1, 0, 0]\n"
     ]
    }
   ],
   "source": [
    "frequencies('The quick red fox got bored and went home.')"
   ]
  },
  {
   "cell_type": "code",
   "execution_count": 77,
   "id": "9c1565c5",
   "metadata": {},
   "outputs": [
    {
     "name": "stdout",
     "output_type": "stream",
     "text": [
      "[1, 0, 0, 0, 1, 0, 0, 0, 0, 0, 0, 1, 0, 0, 0, 2, 0, 0, 0, 0, 0, 0, 0, 0, 0, 0]\n"
     ]
    }
   ],
   "source": [
    "frequencies('apple')"
   ]
  },
  {
   "cell_type": "code",
   "execution_count": null,
   "id": "97a69ca3",
   "metadata": {},
   "outputs": [],
   "source": []
  }
 ],
 "metadata": {
  "kernelspec": {
   "display_name": "Python 3 (ipykernel)",
   "language": "python",
   "name": "python3"
  },
  "language_info": {
   "codemirror_mode": {
    "name": "ipython",
    "version": 3
   },
   "file_extension": ".py",
   "mimetype": "text/x-python",
   "name": "python",
   "nbconvert_exporter": "python",
   "pygments_lexer": "ipython3",
   "version": "3.8.0"
  }
 },
 "nbformat": 4,
 "nbformat_minor": 5
}
